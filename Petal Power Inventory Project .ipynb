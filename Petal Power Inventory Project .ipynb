{
 "cells": [
  {
   "cell_type": "markdown",
   "metadata": {},
   "source": [
    "You’re the lead data analyst for a chain of gardening stores called Petal Power. Help them analyze their inventory!"
   ]
  },
  {
   "cell_type": "code",
   "execution_count": 2,
   "metadata": {},
   "outputs": [],
   "source": [
    "# Data for all of the locations of Petal Power is in the file inventory.csv. \n",
    "# Create the data into a DataFrame called inventory."
   ]
  },
  {
   "cell_type": "code",
   "execution_count": 1,
   "metadata": {},
   "outputs": [],
   "source": [
    "import pandas as pd\n",
    "\n",
    "inventory = pd.DataFrame([\n",
    "    \n",
    "['Staten Island','seeds','daisy',4,6.99],\n",
    "['Staten Island','seeds','calla lily',46,19.99],\n",
    "['Staten Island','seeds','tomato',85,13.99],\n",
    "['Staten Island','garden tools','rake',4,13.99],\n",
    "['Staten Island','garden tools','wheelbarrow',0,89.99],\n",
    "['Staten Island','garden tools','spade',93,19.99],\n",
    "['Staten Island','pest_control','insect killer',74,12.99],\n",
    "['Staten Island','pest_control','weed killer',8,23.99],\n",
    "['Staten Island','planter','20 inch terracotta planter',0,17.99],\n",
    "['Staten Island','planter','8 inch plastic planter',53,3.99],\n",
    "['Brooklyn','seeds','daisy',50,6.99],\n",
    "['Brooklyn','seeds','calla lily',0,19.99],\n",
    "['Brooklyn','seeds','tomato',0,13.99],\n",
    "['Brooklyn','garden tools','rake',15,13.99],\n",
    "['Brooklyn','garden tools','wheelbarrow',82,89.99],\n",
    "['Brooklyn','garden tools','spade',36,19.99],\n",
    "['Brooklyn','pest_control','insect killer',80,12.99],\n",
    "['Brooklyn','pest_control','weed killer',76,23.99],\n",
    "['Brooklyn','planter','20 inch terracotta planter',5,17.99],\n",
    "['Brooklyn','planter','8 inch plastic planter',26,3.99],\n",
    "['Queens','seeds','daisy',57,6.99],\n",
    "['Queens','seeds','calla lily',95,19.99],\n",
    "['Queens','seeds','tomato',45,13.99],\n",
    "['Queens','garden tools','rake',21,13.99],\n",
    "['Queens','garden tools','wheelbarrow',98,89.99],\n",
    "['Queens','garden tools','spade',26,19.99],\n",
    "['Queens','pest_control','insect killer',0,12.99],\n",
    "['Queens','pest_control','weed killer',16,23.99],\n",
    "['Queens','planter','20 inch terracotta planter',87,17.99] \n",
    "], \n",
    " columns = ['location','product_type','product_description','quantity','price'] \n",
    "    \n",
    ")\n"
   ]
  },
  {
   "cell_type": "code",
   "execution_count": 2,
   "metadata": {},
   "outputs": [
    {
     "name": "stdout",
     "output_type": "stream",
     "text": [
      "        location  product_type         product_description  quantity  price\n",
      "0  Staten Island         seeds                       daisy         4   6.99\n",
      "1  Staten Island         seeds                  calla lily        46  19.99\n",
      "2  Staten Island         seeds                      tomato        85  13.99\n",
      "3  Staten Island  garden tools                        rake         4  13.99\n",
      "4  Staten Island  garden tools                 wheelbarrow         0  89.99\n",
      "5  Staten Island  garden tools                       spade        93  19.99\n",
      "6  Staten Island  pest_control               insect killer        74  12.99\n",
      "7  Staten Island  pest_control                 weed killer         8  23.99\n",
      "8  Staten Island       planter  20 inch terracotta planter         0  17.99\n",
      "9  Staten Island       planter      8 inch plastic planter        53   3.99\n"
     ]
    }
   ],
   "source": [
    "# Inspect the first 10 rows of inventory.\n",
    "\n",
    "print(inventory.head(10))"
   ]
  },
  {
   "cell_type": "markdown",
   "metadata": {},
   "source": [
    "The first 10 rows represent data from your Staten Island location. Select these rows and save them to staten_island."
   ]
  },
  {
   "cell_type": "code",
   "execution_count": 5,
   "metadata": {},
   "outputs": [],
   "source": [
    "# Select these rows and save them to staten_island\n",
    "\n",
    "staten_island = inventory.head(10)"
   ]
  },
  {
   "cell_type": "markdown",
   "metadata": {},
   "source": [
    "A customer just emailed you asking what products are sold at your Staten Island location. Select the column product_description from staten_island and save it to the variable product_request."
   ]
  },
  {
   "cell_type": "code",
   "execution_count": 7,
   "metadata": {},
   "outputs": [],
   "source": [
    "# Select the column product_description from staten_island and save it to the variable product_request\n",
    "\n",
    "product_request = staten_island.product_description"
   ]
  },
  {
   "cell_type": "markdown",
   "metadata": {},
   "source": [
    "Another customer emails to ask what types of seeds are sold at the Brooklyn location.\n",
    "\n",
    "Select all rows where location is equal to Brooklyn and product_type is equal to seeds and save them to the variable seed_request."
   ]
  },
  {
   "cell_type": "code",
   "execution_count": 19,
   "metadata": {},
   "outputs": [
    {
     "name": "stdout",
     "output_type": "stream",
     "text": [
      "    location product_type product_description  quantity  price\n",
      "10  Brooklyn        seeds               daisy        50   6.99\n",
      "11  Brooklyn        seeds          calla lily         0  19.99\n",
      "12  Brooklyn        seeds              tomato         0  13.99\n"
     ]
    }
   ],
   "source": [
    "seed_request = inventory[(inventory.location == 'Brooklyn') & (inventory.product_type == 'seeds')]\n",
    "\n",
    "print(seed_request)\n"
   ]
  },
  {
   "cell_type": "markdown",
   "metadata": {},
   "source": [
    "Add a column to inventory called in_stock which is True if quantity is greater than 0 and False if quantity equals 0."
   ]
  },
  {
   "cell_type": "code",
   "execution_count": 22,
   "metadata": {},
   "outputs": [
    {
     "name": "stdout",
     "output_type": "stream",
     "text": [
      "        location  product_type         product_description  quantity  price  \\\n",
      "0  Staten Island         seeds                       daisy         4   6.99   \n",
      "1  Staten Island         seeds                  calla lily        46  19.99   \n",
      "2  Staten Island         seeds                      tomato        85  13.99   \n",
      "3  Staten Island  garden tools                        rake         4  13.99   \n",
      "4  Staten Island  garden tools                 wheelbarrow         0  89.99   \n",
      "5  Staten Island  garden tools                       spade        93  19.99   \n",
      "6  Staten Island  pest_control               insect killer        74  12.99   \n",
      "7  Staten Island  pest_control                 weed killer         8  23.99   \n",
      "8  Staten Island       planter  20 inch terracotta planter         0  17.99   \n",
      "9  Staten Island       planter      8 inch plastic planter        53   3.99   \n",
      "\n",
      "  in_stock  \n",
      "0     True  \n",
      "1     True  \n",
      "2     True  \n",
      "3     True  \n",
      "4    False  \n",
      "5     True  \n",
      "6     True  \n",
      "7     True  \n",
      "8    False  \n",
      "9     True  \n"
     ]
    }
   ],
   "source": [
    "# Add a column to inventory called in_stock which is True if quantity is greater than 0 and False if quantity equals 0.\n",
    "\n",
    "inventory['in_stock'] = inventory.apply(lambda row: 'True' if row.quantity > 0 else 'False', axis=1)\n",
    "print(inventory.head(10))"
   ]
  },
  {
   "cell_type": "markdown",
   "metadata": {},
   "source": [
    "Petal Power wants to know how valuable their current inventory is.\n",
    "\n",
    "Create a column called total_value that is equal to price multiplied by quantity."
   ]
  },
  {
   "cell_type": "code",
   "execution_count": 23,
   "metadata": {},
   "outputs": [
    {
     "name": "stdout",
     "output_type": "stream",
     "text": [
      "        location  product_type         product_description  quantity  price  \\\n",
      "0  Staten Island         seeds                       daisy         4   6.99   \n",
      "1  Staten Island         seeds                  calla lily        46  19.99   \n",
      "2  Staten Island         seeds                      tomato        85  13.99   \n",
      "3  Staten Island  garden tools                        rake         4  13.99   \n",
      "4  Staten Island  garden tools                 wheelbarrow         0  89.99   \n",
      "5  Staten Island  garden tools                       spade        93  19.99   \n",
      "6  Staten Island  pest_control               insect killer        74  12.99   \n",
      "7  Staten Island  pest_control                 weed killer         8  23.99   \n",
      "8  Staten Island       planter  20 inch terracotta planter         0  17.99   \n",
      "9  Staten Island       planter      8 inch plastic planter        53   3.99   \n",
      "\n",
      "  in_stock  total_value  \n",
      "0     True        27.96  \n",
      "1     True       919.54  \n",
      "2     True      1189.15  \n",
      "3     True        55.96  \n",
      "4    False         0.00  \n",
      "5     True      1859.07  \n",
      "6     True       961.26  \n",
      "7     True       191.92  \n",
      "8    False         0.00  \n",
      "9     True       211.47  \n"
     ]
    }
   ],
   "source": [
    "# Create a column called total_value that is equal to price multiplied by quantity\n",
    "\n",
    "inventory['total_value'] = inventory.apply(lambda row: row.price * row.quantity, axis=1)\n",
    "print(inventory.head(10))"
   ]
  },
  {
   "cell_type": "markdown",
   "metadata": {},
   "source": [
    "The Marketing department wants a complete description of each product for their catalog.\n",
    "\n",
    "The following lambda function combines product_type and product_description into a single string:"
   ]
  },
  {
   "cell_type": "code",
   "execution_count": 24,
   "metadata": {},
   "outputs": [],
   "source": [
    "combine_lambda = lambda row: \\\n",
    "    '{} - {}'.format(row.product_type, row.product_description)"
   ]
  },
  {
   "cell_type": "markdown",
   "metadata": {},
   "source": [
    "Using combine_lambda, create a new column in inventory called full_description that has the complete description of each product."
   ]
  },
  {
   "cell_type": "code",
   "execution_count": 26,
   "metadata": {},
   "outputs": [
    {
     "name": "stdout",
     "output_type": "stream",
     "text": [
      "        location  product_type         product_description  quantity  price  \\\n",
      "0  Staten Island         seeds                       daisy         4   6.99   \n",
      "1  Staten Island         seeds                  calla lily        46  19.99   \n",
      "2  Staten Island         seeds                      tomato        85  13.99   \n",
      "3  Staten Island  garden tools                        rake         4  13.99   \n",
      "4  Staten Island  garden tools                 wheelbarrow         0  89.99   \n",
      "5  Staten Island  garden tools                       spade        93  19.99   \n",
      "6  Staten Island  pest_control               insect killer        74  12.99   \n",
      "7  Staten Island  pest_control                 weed killer         8  23.99   \n",
      "8  Staten Island       planter  20 inch terracotta planter         0  17.99   \n",
      "9  Staten Island       planter      8 inch plastic planter        53   3.99   \n",
      "\n",
      "  in_stock  total_value                      full_description  \n",
      "0     True        27.96                         seeds - daisy  \n",
      "1     True       919.54                    seeds - calla lily  \n",
      "2     True      1189.15                        seeds - tomato  \n",
      "3     True        55.96                   garden tools - rake  \n",
      "4    False         0.00            garden tools - wheelbarrow  \n",
      "5     True      1859.07                  garden tools - spade  \n",
      "6     True       961.26          pest_control - insect killer  \n",
      "7     True       191.92            pest_control - weed killer  \n",
      "8    False         0.00  planter - 20 inch terracotta planter  \n",
      "9     True       211.47      planter - 8 inch plastic planter  \n"
     ]
    }
   ],
   "source": [
    "#  create a new column in inventory called full_description that has the complete description of each product\n",
    "\n",
    "inventory['full_description'] = inventory.apply(combine_lambda, axis=1)\n",
    "print(inventory.head(10))"
   ]
  },
  {
   "cell_type": "code",
   "execution_count": null,
   "metadata": {},
   "outputs": [],
   "source": []
  }
 ],
 "metadata": {
  "kernelspec": {
   "display_name": "Python 3",
   "language": "python",
   "name": "python3"
  },
  "language_info": {
   "codemirror_mode": {
    "name": "ipython",
    "version": 3
   },
   "file_extension": ".py",
   "mimetype": "text/x-python",
   "name": "python",
   "nbconvert_exporter": "python",
   "pygments_lexer": "ipython3",
   "version": "3.8.3"
  }
 },
 "nbformat": 4,
 "nbformat_minor": 4
}
